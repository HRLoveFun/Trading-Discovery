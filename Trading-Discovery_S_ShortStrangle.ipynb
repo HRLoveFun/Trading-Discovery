{
 "cells": [
  {
   "cell_type": "markdown",
   "metadata": {},
   "source": [
    "# Import Library"
   ]
  },
  {
   "cell_type": "code",
   "execution_count": 10,
   "metadata": {},
   "outputs": [],
   "source": [
    "import yfinance as yf\n",
    "import pandas as pd\n",
    "import matplotlib.pyplot as plt\n",
    "import plotly.graph_objects as go\n",
    "from plotly.subplots import make_subplots\n",
    "import numpy as np\n",
    "import seaborn as sns\n",
    "import datetime as dt\n",
    "from matplotlib.ticker import PercentFormatter\n",
    "from scipy.optimize import minimize_scalar\n",
    "from scipy.stats import ks_2samp\n",
    "\n",
    "\n",
    "# import os\n",
    "# from fredapi import Fred\n",
    "\n",
    "from marketobserve import *"
   ]
  },
  {
   "cell_type": "markdown",
   "metadata": {},
   "source": [
    "# Return Distribution"
   ]
  },
  {
   "cell_type": "markdown",
   "metadata": {},
   "source": [
    "## Download Data"
   ]
  },
  {
   "cell_type": "code",
   "execution_count": null,
   "metadata": {},
   "outputs": [],
   "source": [
    "# Example usage:\n",
    "start = dt.date(1900, 1, 1)\n",
    "end = dt.date(2026, 1, 1)\n",
    "ticker = \"^HSI\"\n",
    "data = yf_download(ticker, start, end)\n",
    "# data.index = data.index.strftime('%Y-%m')\n",
    "# data.to_excel(f\"{ticker}.xlsx\")\n",
    "data.describe()"
   ]
  },
  {
   "cell_type": "code",
   "execution_count": 12,
   "metadata": {},
   "outputs": [],
   "source": [
    "# frequency = 'ME'\n",
    "# monthly_data = refrequency(data, frequency=frequency)\n",
    "# monthly_oscill = oscillation(monthly_data)\n",
    "# monthly_tail_stats_result =tail_stats(monthly_oscill,\"OscillationPct\",frequency=frequency)\n",
    "# print(monthly_tail_stats_result,\"\\n\")\n",
    "\n",
    "# round_digit = 1\n",
    "# tail_plot(monthly_oscill,\"OscillationPct\",frequency=frequency)\n",
    "# volatility_proj_pbn = volatility_projection(data,\"OscillationPct\",frequency=frequency,prefer_bias=None).round(round_digit)\n",
    "# print(volatility_proj_pbn,\"\\n\")\n",
    "# volatility_proj_pb0 = volatility_projection(data,\"OscillationPct\",frequency=frequency,prefer_bias=0).round(round_digit)\n",
    "# print(volatility_proj_pb0)\n"
   ]
  },
  {
   "cell_type": "code",
   "execution_count": null,
   "metadata": {},
   "outputs": [],
   "source": [
    "frequency = 'W'\n",
    "refrequency_data = refrequency(data, frequency=frequency)\n",
    "oscill = oscillation(refrequency_data)\n",
    "tail_stats_result =tail_stats(oscill,\"OscillationPct\",frequency=frequency)\n",
    "# check_list = [\"skew\", \"kurt\", \"p-value\",\"_%th\"]\n",
    "# print(tail_stats_result.apply(lambda row: row.apply(lambda x: '{:.2%}'.format(x) if isinstance(x, (int, float)) and not any(item in row.name for item in check_list) else '{:.2f}'.format(x)), axis=1), \"\\n\")\n",
    "percentile_stats_result =percentile_stats(oscill,\"OscillationPct\",frequency=frequency,percentile=90)\n",
    "print(percentile_stats_result,\"\\n\")\n",
    "\n",
    "\n",
    "\n",
    "round_digit = 2\n",
    "# tail_plot(oscill,\"OscillationPct\",frequency=frequency)\n",
    "volatility_proj_pbn = volatility_projection(data,\"OscillationPct\",frequency=frequency,prefer_bias=None).round(round_digit)\n",
    "# print(volatility_proj_pbn,\"\\n\")\n",
    "volatility_proj_pb0 = volatility_projection(data,\"OscillationPct\",frequency=frequency,prefer_bias=0).round(round_digit)\n",
    "# print(volatility_proj_pb0)\n",
    "gap_stats_result = period_gap_stats(oscill,\"PeriodGap\",frequency=frequency)\n",
    "(gap_stats_result).apply(lambda row: row.apply(lambda x: '{:.2%}'.format(x) if isinstance(x, (int, float)) and row.name not in [\"skew\", \"kurt\", \"p-value\"] else '{:.2f}'.format(x)),axis=1)\n"
   ]
  },
  {
   "cell_type": "markdown",
   "metadata": {},
   "source": [
    "# Option Matrix"
   ]
  },
  {
   "cell_type": "code",
   "execution_count": null,
   "metadata": {},
   "outputs": [],
   "source": [
    "option_position = pd.DataFrame(\n",
    "    {\n",
    "        \"option_type\":[\"SC\",\"SP\",],\n",
    "        \"strike\":[21000,19000,],\n",
    "        \"quantity\":[1,1],\n",
    "        \"premium\":[72,199,]\n",
    "    }\n",
    ")\n",
    "option_matrix_result = option_matrix(ticker='^HSI',option_position=option_position).astype(int)\n",
    "option_matrix_result"
   ]
  },
  {
   "cell_type": "code",
   "execution_count": null,
   "metadata": {},
   "outputs": [],
   "source": [
    "# Plot a line chart of option_matrix_df['PnL'] \n",
    "plt.figure(figsize=(10, 6))\n",
    "plt.plot(option_matrix_result.index, option_matrix_result['PnL'])\n",
    "plt.xlabel('Price')\n",
    "plt.ylabel('PnL')\n",
    "plt.title('Option PnL Chart')\n",
    "plt.grid(True)\n",
    "plt.show()"
   ]
  }
 ],
 "metadata": {
  "kernelspec": {
   "display_name": "base",
   "language": "python",
   "name": "python3"
  },
  "language_info": {
   "codemirror_mode": {
    "name": "ipython",
    "version": 3
   },
   "file_extension": ".py",
   "mimetype": "text/x-python",
   "name": "python",
   "nbconvert_exporter": "python",
   "pygments_lexer": "ipython3",
   "version": "3.12.2"
  }
 },
 "nbformat": 4,
 "nbformat_minor": 2
}
